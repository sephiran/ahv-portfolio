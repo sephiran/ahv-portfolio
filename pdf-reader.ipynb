{
 "cells": [
  {
   "cell_type": "code",
   "execution_count": 2,
   "metadata": {},
   "outputs": [
    {
     "name": "stderr",
     "output_type": "stream",
     "text": [
      "Got stderr: Juni 09, 2023 12:20:22 PM org.apache.pdfbox.pdmodel.font.FileSystemFontProvider loadDiskCache\n",
      "WARNUNG: New fonts found, font cache will be re-built\n",
      "Juni 09, 2023 12:20:22 PM org.apache.pdfbox.pdmodel.font.FileSystemFontProvider <init>\n",
      "WARNUNG: Building on-disk font cache, this may take a while\n",
      "Juni 09, 2023 12:20:23 PM org.apache.pdfbox.pdmodel.font.FileSystemFontProvider <init>\n",
      "WARNUNG: Finished building on-disk font cache, found 787 fonts\n",
      "\n"
     ]
    },
    {
     "name": "stdout",
     "output_type": "stream",
     "text": [
      "              ISIN               Asset Class          Description   \n",
      "0     CH0539032885  Money market Investments      0.35 GEBERIT 22  \\\n",
      "1     CH0289316397  Money market Investments          0.35 NAB 22   \n",
      "2     CH0311427626  Money market Investments  0.371 CABEI 22 EMTN   \n",
      "3     CH0416445325  Money market Investments         0.373 KNO 23   \n",
      "4     CH0391648026  Money market Investments        0.375 ADCB 23   \n",
      "...            ...                       ...                  ...   \n",
      "3141  US912828ZZ63    Foreign Currency bonds         US TR NTS 30   \n",
      "3142  US912810RF75    Foreign Currency bonds         US TR NTS 44   \n",
      "3143  US912810RW09    Foreign Currency bonds         US TR NTS 47   \n",
      "3144  US9128285W63    Foreign Currency bonds        USA TR 29 ILN   \n",
      "3145  US912810FQ68    Foreign Currency bonds         USA TR BD 32   \n",
      "\n",
      "     Nominal/Quantity Market Value CHF  \n",
      "0      CHF 21'010'000       20'944'869  \n",
      "1       CHF 2'000'000        1'993'800  \n",
      "2       CHF 2'000'000        1'994'600  \n",
      "3      CHF 10'260'000       10'216'908  \n",
      "4         CHF 500'000          497'270  \n",
      "...               ...              ...  \n",
      "3141   USD 19'100'000       19'720'255  \n",
      "3142    USD 9'000'000       10'973'965  \n",
      "3143    USD 6'500'000        7'113'538  \n",
      "3144    USD 6'400'000        7'097'457  \n",
      "3145      USD 700'000        1'365'042  \n",
      "\n",
      "[3146 rows x 5 columns]\n"
     ]
    }
   ],
   "source": [
    "import pandas as pd\n",
    "import tabula\n",
    "\n",
    "# Name der PDF-Datei\n",
    "file = \"ahv.pdf\"\n",
    "\n",
    "# Tabula liest die PDF-Datei\n",
    "# pages = \"all\" liest alle Seiten, [1,2,3] würde nur die Seiten 1, 2 und 3 lesen\n",
    "# multiple_tables = True gibt an, dass die PDF mehrere Tabellen enthalten kann\n",
    "# pandas_options macht die erste Zeile zur Kopfzeile\n",
    "dfs = tabula.read_pdf(file, pages=\"all\", multiple_tables=True, pandas_options={'header': 0})\n",
    "df_final = pd.DataFrame(columns=[\"ISIN\", \"Asset Class\", \"Description\", \"Nominal/Quantity\", \"Market Value CHF\"])\n",
    "\n",
    "# Starte ab der zweiten Tabelle (Seite)\n",
    "for df in dfs[1:]:\n",
    "    # Überprüfe, ob die Spaltenüberschriften korrekt sind\n",
    "    if set(df.columns) == {\"ISIN\", \"Asset Class\", \"Description\", \"Nominal/Quantity\", \"Market Value CHF\"}:\n",
    "        # Füge die Zeilen dem finalen DataFrame hinzu\n",
    "        df_final = pd.concat([df_final, df])\n",
    "\n",
    "# Setze den Index zurück, um eine fortlaufende Nummerierung zu erhalten\n",
    "df_final.reset_index(drop=True, inplace=True)\n",
    "\n",
    "print(df_final)"
   ]
  },
  {
   "cell_type": "code",
   "execution_count": 4,
   "metadata": {},
   "outputs": [
    {
     "name": "stdout",
     "output_type": "stream",
     "text": [
      "ISIN                            CH0539032885\n",
      "Asset Class         Money market Investments\n",
      "Description                  0.35 GEBERIT 22\n",
      "Nominal/Quantity              CHF 21'010'000\n",
      "Market Value CHF                  20'944'869\n",
      "Name: 0, dtype: object\n"
     ]
    }
   ],
   "source": [
    "print(df_final.iloc[0])"
   ]
  }
 ],
 "metadata": {
  "kernelspec": {
   "display_name": "adsenv",
   "language": "python",
   "name": "python3"
  },
  "language_info": {
   "codemirror_mode": {
    "name": "ipython",
    "version": 3
   },
   "file_extension": ".py",
   "mimetype": "text/x-python",
   "name": "python",
   "nbconvert_exporter": "python",
   "pygments_lexer": "ipython3",
   "version": "3.10.10"
  },
  "orig_nbformat": 4
 },
 "nbformat": 4,
 "nbformat_minor": 2
}
